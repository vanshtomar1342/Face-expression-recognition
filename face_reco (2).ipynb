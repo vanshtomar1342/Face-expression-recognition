{
  "cells": [
    {
      "cell_type": "code",
      "execution_count": 3,
      "metadata": {
        "colab": {
          "base_uri": "https://localhost:8080/"
        },
        "id": "X4PMnhbTc0uY",
        "outputId": "e1850232-2c0a-4194-c0e0-124ce277898a"
      },
      "outputs": [
        {
          "output_type": "stream",
          "name": "stdout",
          "text": [
            "Cloning into 'facial_expressions'...\n",
            "remote: Enumerating objects: 14214, done.\u001b[K\n",
            "remote: Total 14214 (delta 0), reused 0 (delta 0), pack-reused 14214\u001b[K\n",
            "Receiving objects: 100% (14214/14214), 239.65 MiB | 25.25 MiB/s, done.\n",
            "Resolving deltas: 100% (223/223), done.\n",
            "Checking out files: 100% (13996/13996), done.\n"
          ]
        }
      ],
      "source": [
        "!git clone https://github.com/muxspace/facial_expressions.git"
      ]
    },
    {
      "cell_type": "code",
      "execution_count": 4,
      "metadata": {
        "colab": {
          "base_uri": "https://localhost:8080/",
          "height": 206
        },
        "id": "M8isqlsIeK20",
        "outputId": "c51e7b18-8aaa-489a-98cc-551f76c5be47"
      },
      "outputs": [
        {
          "output_type": "execute_result",
          "data": {
            "text/plain": [
              "  user.id                            image   emotion\n",
              "0     628  facial-expressions_2868588k.jpg     anger\n",
              "1     628  facial-expressions_2868585k.jpg  surprise\n",
              "2     628  facial-expressions_2868584k.jpg   disgust\n",
              "3     628  facial-expressions_2868582k.jpg      fear\n",
              "4   dwdii           Aaron_Eckhart_0001.jpg   neutral"
            ],
            "text/html": [
              "\n",
              "  <div id=\"df-21ebbc3e-cdaf-4f34-8f6e-18bdd1b56c92\">\n",
              "    <div class=\"colab-df-container\">\n",
              "      <div>\n",
              "<style scoped>\n",
              "    .dataframe tbody tr th:only-of-type {\n",
              "        vertical-align: middle;\n",
              "    }\n",
              "\n",
              "    .dataframe tbody tr th {\n",
              "        vertical-align: top;\n",
              "    }\n",
              "\n",
              "    .dataframe thead th {\n",
              "        text-align: right;\n",
              "    }\n",
              "</style>\n",
              "<table border=\"1\" class=\"dataframe\">\n",
              "  <thead>\n",
              "    <tr style=\"text-align: right;\">\n",
              "      <th></th>\n",
              "      <th>user.id</th>\n",
              "      <th>image</th>\n",
              "      <th>emotion</th>\n",
              "    </tr>\n",
              "  </thead>\n",
              "  <tbody>\n",
              "    <tr>\n",
              "      <th>0</th>\n",
              "      <td>628</td>\n",
              "      <td>facial-expressions_2868588k.jpg</td>\n",
              "      <td>anger</td>\n",
              "    </tr>\n",
              "    <tr>\n",
              "      <th>1</th>\n",
              "      <td>628</td>\n",
              "      <td>facial-expressions_2868585k.jpg</td>\n",
              "      <td>surprise</td>\n",
              "    </tr>\n",
              "    <tr>\n",
              "      <th>2</th>\n",
              "      <td>628</td>\n",
              "      <td>facial-expressions_2868584k.jpg</td>\n",
              "      <td>disgust</td>\n",
              "    </tr>\n",
              "    <tr>\n",
              "      <th>3</th>\n",
              "      <td>628</td>\n",
              "      <td>facial-expressions_2868582k.jpg</td>\n",
              "      <td>fear</td>\n",
              "    </tr>\n",
              "    <tr>\n",
              "      <th>4</th>\n",
              "      <td>dwdii</td>\n",
              "      <td>Aaron_Eckhart_0001.jpg</td>\n",
              "      <td>neutral</td>\n",
              "    </tr>\n",
              "  </tbody>\n",
              "</table>\n",
              "</div>\n",
              "      <button class=\"colab-df-convert\" onclick=\"convertToInteractive('df-21ebbc3e-cdaf-4f34-8f6e-18bdd1b56c92')\"\n",
              "              title=\"Convert this dataframe to an interactive table.\"\n",
              "              style=\"display:none;\">\n",
              "        \n",
              "  <svg xmlns=\"http://www.w3.org/2000/svg\" height=\"24px\"viewBox=\"0 0 24 24\"\n",
              "       width=\"24px\">\n",
              "    <path d=\"M0 0h24v24H0V0z\" fill=\"none\"/>\n",
              "    <path d=\"M18.56 5.44l.94 2.06.94-2.06 2.06-.94-2.06-.94-.94-2.06-.94 2.06-2.06.94zm-11 1L8.5 8.5l.94-2.06 2.06-.94-2.06-.94L8.5 2.5l-.94 2.06-2.06.94zm10 10l.94 2.06.94-2.06 2.06-.94-2.06-.94-.94-2.06-.94 2.06-2.06.94z\"/><path d=\"M17.41 7.96l-1.37-1.37c-.4-.4-.92-.59-1.43-.59-.52 0-1.04.2-1.43.59L10.3 9.45l-7.72 7.72c-.78.78-.78 2.05 0 2.83L4 21.41c.39.39.9.59 1.41.59.51 0 1.02-.2 1.41-.59l7.78-7.78 2.81-2.81c.8-.78.8-2.07 0-2.86zM5.41 20L4 18.59l7.72-7.72 1.47 1.35L5.41 20z\"/>\n",
              "  </svg>\n",
              "      </button>\n",
              "      \n",
              "  <style>\n",
              "    .colab-df-container {\n",
              "      display:flex;\n",
              "      flex-wrap:wrap;\n",
              "      gap: 12px;\n",
              "    }\n",
              "\n",
              "    .colab-df-convert {\n",
              "      background-color: #E8F0FE;\n",
              "      border: none;\n",
              "      border-radius: 50%;\n",
              "      cursor: pointer;\n",
              "      display: none;\n",
              "      fill: #1967D2;\n",
              "      height: 32px;\n",
              "      padding: 0 0 0 0;\n",
              "      width: 32px;\n",
              "    }\n",
              "\n",
              "    .colab-df-convert:hover {\n",
              "      background-color: #E2EBFA;\n",
              "      box-shadow: 0px 1px 2px rgba(60, 64, 67, 0.3), 0px 1px 3px 1px rgba(60, 64, 67, 0.15);\n",
              "      fill: #174EA6;\n",
              "    }\n",
              "\n",
              "    [theme=dark] .colab-df-convert {\n",
              "      background-color: #3B4455;\n",
              "      fill: #D2E3FC;\n",
              "    }\n",
              "\n",
              "    [theme=dark] .colab-df-convert:hover {\n",
              "      background-color: #434B5C;\n",
              "      box-shadow: 0px 1px 3px 1px rgba(0, 0, 0, 0.15);\n",
              "      filter: drop-shadow(0px 1px 2px rgba(0, 0, 0, 0.3));\n",
              "      fill: #FFFFFF;\n",
              "    }\n",
              "  </style>\n",
              "\n",
              "      <script>\n",
              "        const buttonEl =\n",
              "          document.querySelector('#df-21ebbc3e-cdaf-4f34-8f6e-18bdd1b56c92 button.colab-df-convert');\n",
              "        buttonEl.style.display =\n",
              "          google.colab.kernel.accessAllowed ? 'block' : 'none';\n",
              "\n",
              "        async function convertToInteractive(key) {\n",
              "          const element = document.querySelector('#df-21ebbc3e-cdaf-4f34-8f6e-18bdd1b56c92');\n",
              "          const dataTable =\n",
              "            await google.colab.kernel.invokeFunction('convertToInteractive',\n",
              "                                                     [key], {});\n",
              "          if (!dataTable) return;\n",
              "\n",
              "          const docLinkHtml = 'Like what you see? Visit the ' +\n",
              "            '<a target=\"_blank\" href=https://colab.research.google.com/notebooks/data_table.ipynb>data table notebook</a>'\n",
              "            + ' to learn more about interactive tables.';\n",
              "          element.innerHTML = '';\n",
              "          dataTable['output_type'] = 'display_data';\n",
              "          await google.colab.output.renderOutput(dataTable, element);\n",
              "          const docLink = document.createElement('div');\n",
              "          docLink.innerHTML = docLinkHtml;\n",
              "          element.appendChild(docLink);\n",
              "        }\n",
              "      </script>\n",
              "    </div>\n",
              "  </div>\n",
              "  "
            ]
          },
          "metadata": {},
          "execution_count": 4
        }
      ],
      "source": [
        "import pandas as pd\n",
        "data=pd.read_csv('/content/facial_expressions/data/legend.csv')\n",
        "df=data.copy()\n",
        "dic={}\n",
        "df.isnull().sum()\n",
        "data.head()"
      ]
    },
    {
      "cell_type": "code",
      "execution_count": 5,
      "metadata": {
        "colab": {
          "base_uri": "https://localhost:8080/",
          "height": 36
        },
        "id": "2VQ_BvrLHWDk",
        "outputId": "2fdbc2e9-03a5-49d9-cafe-b278a6c624be"
      },
      "outputs": [
        {
          "output_type": "execute_result",
          "data": {
            "text/plain": [
              "'anger'"
            ],
            "application/vnd.google.colaboratory.intrinsic+json": {
              "type": "string"
            }
          },
          "metadata": {},
          "execution_count": 5
        }
      ],
      "source": [
        "\n",
        "df.iloc[0,2]"
      ]
    },
    {
      "cell_type": "markdown",
      "source": [
        "example for anger"
      ],
      "metadata": {
        "id": "T5bTN6OCxUiR"
      }
    },
    {
      "cell_type": "code",
      "source": [
        "import cv2\n",
        "import matplotlib.pyplot as plt\n",
        "img = cv2.imread('/content/master_data/testing/anger/SharmilaTagore_45.jpg')\n",
        "plt.imshow(img)"
      ],
      "metadata": {
        "colab": {
          "base_uri": "https://localhost:8080/",
          "height": 286
        },
        "id": "A-yoIaYzrgX2",
        "outputId": "73cbe570-77c2-4271-e5b9-bde00e7f6154"
      },
      "execution_count": 49,
      "outputs": [
        {
          "output_type": "execute_result",
          "data": {
            "text/plain": [
              "<matplotlib.image.AxesImage at 0x7f7829418c70>"
            ]
          },
          "metadata": {},
          "execution_count": 49
        },
        {
          "output_type": "display_data",
          "data": {
            "text/plain": [
              "<Figure size 432x288 with 1 Axes>"
            ],
            "image/png": "[encoded data removed]"
          },
          "metadata": {
            "needs_background": "light"
          }
        }
      ]
    },
    {
      "cell_type": "code",
      "execution_count": 6,
      "metadata": {
        "id": "_6Y1GOXkCGdn"
      },
      "outputs": [],
      "source": [
        "for i in range(len(df.emotion)):\n",
        "  key=df.iloc[i,2].lower()\n",
        "  if key in dic:\n",
        "    dic[key].append(df.iloc[i,1])\n",
        "  else:\n",
        "    dic[key]=[df.iloc[i,1]]\n"
      ]
    },
    {
      "cell_type": "code",
      "execution_count": 7,
      "metadata": {
        "colab": {
          "base_uri": "https://localhost:8080/"
        },
        "id": "9s3Cpm3JRihC",
        "outputId": "919e8754-c223-44de-ca22-4764cc6eb485"
      },
      "outputs": [
        {
          "output_type": "stream",
          "name": "stdout",
          "text": [
            "['anger', 'surprise', 'disgust', 'fear', 'neutral', 'happiness', 'sadness', 'contempt']\n"
          ]
        }
      ],
      "source": [
        "emotion_list=list(dic.keys())\n",
        "print(emotion_list)"
      ]
    },
    {
      "cell_type": "code",
      "execution_count": 8,
      "metadata": {
        "id": "G4A1LSmISNnb"
      },
      "outputs": [],
      "source": [
        "import os\n",
        "os.mkdir('master_data')\n",
        "os.mkdir('master_data/training')\n",
        "os.mkdir('master_data/testing')"
      ]
    },
    {
      "cell_type": "code",
      "execution_count": 9,
      "metadata": {
        "id": "DYjjKKxZaXxM"
      },
      "outputs": [],
      "source": [
        "for emotion in emotion_list:\n",
        "\n",
        "  os.mkdir(os.path.join('master_data/training',emotion))\n",
        "  os.mkdir(os.path.join('master_data/testing',emotion))\n"
      ]
    },
    {
      "cell_type": "code",
      "execution_count": 10,
      "metadata": {
        "id": "mRhE4lgxcYvt"
      },
      "outputs": [],
      "source": [
        "from shutil import copyfile\n",
        "split_size=0.7\n",
        "for emotion,images in dic.items():\n",
        "  train_size=int(split_size*len(images))\n",
        "  train_images=images[:train_size]\n",
        "  test_images=images[train_size:]\n",
        "  for image in train_images:\n",
        "   source=os.path.join('/content/facial_expressions/images',image)\n",
        "   des=os.path.join('/content/master_data/training',emotion,image)\n",
        "   copyfile(source,des)\n",
        "\n",
        "  for image in test_images:\n",
        "   source=os.path.join('/content/facial_expressions/images',image)\n",
        "   des=os.path.join('/content/master_data/testing',emotion,image)\n",
        "   copyfile(source,des)\n"
      ]
    },
    {
      "cell_type": "markdown",
      "metadata": {
        "id": "_2CDsjEXgRYu"
      },
      "source": [
        "MODEL BUILDING\n"
      ]
    },
    {
      "cell_type": "code",
      "execution_count": 22,
      "metadata": {
        "colab": {
          "base_uri": "https://localhost:8080/"
        },
        "id": "CjR35L0sgUTt",
        "outputId": "e99c06b8-a177-41e0-dfd1-1e5734f8b375"
      },
      "outputs": [
        {
          "output_type": "stream",
          "name": "stdout",
          "text": [
            "Model: \"sequential_3\"\n",
            "_________________________________________________________________\n",
            " Layer (type)                Output Shape              Param #   \n",
            "=================================================================\n",
            " conv2d_4 (Conv2D)           (None, 98, 98, 16)        448       \n",
            "                                                                 \n",
            " max_pooling2d_4 (MaxPooling  (None, 49, 49, 16)       0         \n",
            " 2D)                                                             \n",
            "                                                                 \n",
            " flatten_3 (Flatten)         (None, 38416)             0         \n",
            "                                                                 \n",
            " dense_6 (Dense)             (None, 1024)              39339008  \n",
            "                                                                 \n",
            " dense_7 (Dense)             (None, 1024)              1049600   \n",
            "                                                                 \n",
            " dense_8 (Dense)             (None, 8)                 8200      \n",
            "                                                                 \n",
            "=================================================================\n",
            "Total params: 40,397,256\n",
            "Trainable params: 40,397,256\n",
            "Non-trainable params: 0\n",
            "_________________________________________________________________\n"
          ]
        }
      ],
      "source": [
        "from tensorflow.python.framework.func_graph import flatten\n",
        "import tensorflow as tf\n",
        "from tensorflow.keras.preprocessing.image import ImageDataGenerator\n",
        "from tensorflow.keras.optimizers import Adam\n",
        "from tensorflow.keras.callbacks import EarlyStopping\n",
        "from tensorflow.keras.layers import Convolution2D,MaxPool2D,Dense,Flatten\n",
        "model=tf.keras.models.Sequential ([\n",
        "    \n",
        "    Conv2D(16,(3,3),activation='relu',input_shape=(100,100,3)),\n",
        "    MaxPool2D(2,2),\n",
        "    Flatten(),\n",
        "    Dense(1024,activation='relu'),\n",
        "\n",
        "    Dense(8,activation='Softmax')\n",
        "\n",
        "])\n",
        "model.compile(optimizer=Adam(lr=0.01),loss='categorical_crossentropy',metrics=['accuracy'])\n",
        "model.summary()"
      ]
    },
    {
      "cell_type": "markdown",
      "metadata": {
        "id": "NROFC7rg7ySn"
      },
      "source": [
        "Image Data Generator "
      ]
    },
    {
      "cell_type": "code",
      "execution_count": 23,
      "metadata": {
        "colab": {
          "base_uri": "https://localhost:8080/"
        },
        "id": "Ylor0gyW799i",
        "outputId": "b825937d-1e33-450f-beff-b7de2c0dbab3"
      },
      "outputs": [
        {
          "output_type": "stream",
          "name": "stdout",
          "text": [
            "Found 9572 images belonging to 8 classes.\n",
            "Found 4111 images belonging to 8 classes.\n"
          ]
        }
      ],
      "source": [
        "train_dir='/content/master_data/training'\n",
        "test_dir='/content/master_data/testing'\n",
        "train_datagen=ImageDataGenerator(rescale=1/255)\n",
        "test_datagen=ImageDataGenerator(rescale=1/255)\n",
        "\n",
        "train_generator=train_datagen.flow_from_directory(\n",
        "    train_dir,\n",
        "    target_size=(100,100),\n",
        "    class_mode='categorical',\n",
        "    batch_size=128\n",
        ")\n",
        "test_generator=test_datagen.flow_from_directory(\n",
        "    test_dir,\n",
        "    target_size=(100,100),\n",
        "    class_mode='categorical',\n",
        "    batch_size=128\n",
        ")\n",
        "es=EarlyStopping(monitor='val_accuracy',patience=2,min_delta=0.01)"
      ]
    },
    {
      "cell_type": "code",
      "execution_count": 24,
      "metadata": {
        "colab": {
          "base_uri": "https://localhost:8080/"
        },
        "id": "VbpLWWYl-4eD",
        "outputId": "5a5bac56-edcc-4aba-f201-62e330d599f7"
      },
      "outputs": [
        {
          "output_type": "stream",
          "name": "stdout",
          "text": [
            "Epoch 1/10\n"
          ]
        },
        {
          "output_type": "stream",
          "name": "stderr",
          "text": [
            "<ipython-input-24-c75d829bc7ea>:1: UserWarning: `Model.fit_generator` is deprecated and will be removed in a future version. Please use `Model.fit`, which supports generators.\n",
            "  model.fit_generator(\n"
          ]
        },
        {
          "output_type": "stream",
          "name": "stdout",
          "text": [
            "75/75 [==============================] - 17s 222ms/step - loss: 8.8243 - accuracy: 0.4757 - val_loss: 1.0448 - val_accuracy: 0.5013\n",
            "Epoch 2/10\n",
            "75/75 [==============================] - 16s 218ms/step - loss: 1.0432 - accuracy: 0.4911 - val_loss: 1.0483 - val_accuracy: 0.5013\n",
            "Epoch 3/10\n",
            "75/75 [==============================] - 16s 217ms/step - loss: 1.0428 - accuracy: 0.4880 - val_loss: 1.0435 - val_accuracy: 0.5013\n"
          ]
        },
        {
          "output_type": "execute_result",
          "data": {
            "text/plain": [
              "<keras.callbacks.History at 0x7f78c80cb370>"
            ]
          },
          "metadata": {},
          "execution_count": 24
        }
      ],
      "source": [
        "model.fit_generator(\n",
        "    train_generator,\n",
        "    epochs=10,\n",
        "    verbose=1,\n",
        "    validation_data=test_generator,\n",
        "    callbacks=[es]\n",
        ")"
      ]
    },
    {
      "cell_type": "code",
      "source": [
        "scoreSeg = model.evaluate_generator(test_generator)\n",
        "print(scoreSeg)"
      ],
      "metadata": {
        "colab": {
          "base_uri": "https://localhost:8080/"
        },
        "id": "1kzuFmjqPV6P",
        "outputId": "cbbfc6c4-524b-49de-e04f-a9cce23b2847"
      },
      "execution_count": 18,
      "outputs": [
        {
          "output_type": "stream",
          "name": "stderr",
          "text": [
            "<ipython-input-18-5d7dfe9b4ffe>:1: UserWarning: `Model.evaluate_generator` is deprecated and will be removed in a future version. Please use `Model.evaluate`, which supports generators.\n",
            "  scoreSeg = model.evaluate_generator(test_generator)\n"
          ]
        },
        {
          "output_type": "stream",
          "name": "stdout",
          "text": [
            "[1.041165828704834, 0.5010946393013]\n"
          ]
        }
      ]
    }
  ],
  "metadata": {
    "accelerator": "GPU",
    "colab": {
      "provenance": []
    },
    "gpuClass": "standard",
    "kernelspec": {
      "display_name": "Python 3",
      "name": "python3"
    },
    "language_info": {
      "name": "python"
    }
  },
  "nbformat": 4,
  "nbformat_minor": 0
}